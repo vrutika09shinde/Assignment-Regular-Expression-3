{
 "cells": [
  {
   "cell_type": "code",
   "execution_count": 60,
   "id": "51c842ee-e1be-4b3e-bad0-9698f0b5d5ab",
   "metadata": {},
   "outputs": [],
   "source": [
    "import re\n",
    "import pandas as pd"
   ]
  },
  {
   "cell_type": "markdown",
   "id": "8efe928f-4d48-4e9c-88a8-0751fe82874d",
   "metadata": {},
   "source": [
    "ANS NO = 1"
   ]
  },
  {
   "cell_type": "code",
   "execution_count": 61,
   "id": "a672542f-6130-4240-9fc0-d11f31caa4b7",
   "metadata": {},
   "outputs": [
    {
     "name": "stdout",
     "output_type": "stream",
     "text": [
      "Python:Exercises::PHP:exercises:\n"
     ]
    }
   ],
   "source": [
    "Sample_Text=\"Python Exercises, PHP exercises.\"\n",
    "print(re.sub(\"[ , .]\",\":\", Sample_Text))"
   ]
  },
  {
   "cell_type": "code",
   "execution_count": null,
   "id": "908b1d11-2a16-4e00-8ef3-3916bc5a1174",
   "metadata": {},
   "outputs": [],
   "source": []
  },
  {
   "cell_type": "markdown",
   "id": "1c2ee22c-0023-49db-9e7d-cd82f19facc0",
   "metadata": {},
   "source": [
    "ANS NO = 2"
   ]
  },
  {
   "cell_type": "code",
   "execution_count": 62,
   "id": "ed05fa5f-8b48-42ba-a436-55e9f5470d24",
   "metadata": {},
   "outputs": [],
   "source": [
    "Dictionary= {'SUMMARY': ['hello, world!', 'XXXXX test', '123four, five:; six...']}\n",
    "df=pd.DataFrame (Dictionary) "
   ]
  },
  {
   "cell_type": "code",
   "execution_count": 63,
   "id": "5fdc077e-7ed0-4454-92c8-aafccb842e5e",
   "metadata": {},
   "outputs": [
    {
     "name": "stdout",
     "output_type": "stream",
     "text": [
      "         SUMMARY\n",
      "0    hello world\n",
      "1           test\n",
      "2  four five six\n"
     ]
    }
   ],
   "source": [
    "df['SUMMARY']= df['SUMMARY'].str.replace('[^a-z\\s]', '', regex=True)\n",
    "print(df)"
   ]
  },
  {
   "cell_type": "markdown",
   "id": "a0b8ffa7-2dc6-4025-b5bd-73dd48958ffa",
   "metadata": {},
   "source": []
  },
  {
   "cell_type": "markdown",
   "id": "a114a88b-6c55-4291-8941-c4b6aec14b2a",
   "metadata": {},
   "source": [
    "ANS = 3 "
   ]
  },
  {
   "cell_type": "code",
   "execution_count": 6,
   "id": "f6344146-e37e-4b11-a00e-04531da1e61e",
   "metadata": {},
   "outputs": [
    {
     "name": "stdout",
     "output_type": "stream",
     "text": [
      "['over', 'lazy']\n"
     ]
    }
   ],
   "source": [
    "def find_words(string):\n",
    "    pattern = re.compile(r'\\b\\w{4}\\b')\n",
    "    matches = pattern.findall(string)\n",
    "    return matches\n",
    "\n",
    "string =\"The quick brown fox jumps over the lazy dog\"\n",
    "result=find_words(string)\n",
    "print(result)"
   ]
  },
  {
   "cell_type": "code",
   "execution_count": null,
   "id": "4fdabd4d-514a-4dc3-869c-48978e655127",
   "metadata": {},
   "outputs": [],
   "source": []
  },
  {
   "cell_type": "markdown",
   "id": "b10b1e57-c8b6-44de-8ec4-e63892748bb2",
   "metadata": {},
   "source": [
    "ANS = 4"
   ]
  },
  {
   "cell_type": "code",
   "execution_count": 8,
   "id": "8d2cdfa3-d656-46ac-aea7-aa22efbb57b3",
   "metadata": {},
   "outputs": [
    {
     "name": "stdout",
     "output_type": "stream",
     "text": [
      "['name', 'years', 'old', 'live']\n"
     ]
    }
   ],
   "source": [
    "def find_words(string):\n",
    "    pattern = re.compile(r'\\b\\w{3,5}\\b')\n",
    "    matches= pattern.findall(string)\n",
    "    return matches\n",
    "\n",
    "string =\"My name is vrutika i am 26 years old i live in Gujrat\"\n",
    "result= find_words(string)\n",
    "print(result)"
   ]
  },
  {
   "cell_type": "code",
   "execution_count": null,
   "id": "2089216e-df1a-4cb5-9773-f54ee5f7fdc8",
   "metadata": {},
   "outputs": [],
   "source": []
  },
  {
   "cell_type": "markdown",
   "id": "6fc531cd-2de2-449a-8250-bb78a6177a45",
   "metadata": {},
   "source": [
    "ANS = 5"
   ]
  },
  {
   "cell_type": "code",
   "execution_count": 9,
   "id": "1f0fabba-91fd-4f3b-a284-981f368a0c05",
   "metadata": {},
   "outputs": [],
   "source": [
    "import re\n",
    "\n",
    "def remove_parenthese(strings):\n",
    "    pattern=re.compile(r\"\\(\\)\")\n",
    "    modified_strings =[]\n",
    "    for string in strings:\n",
    "        modified_string=re.sub(pattern,\" \",string)\n",
    "        modified_strings.append(modified_string)\n",
    "        return modified_strings"
   ]
  },
  {
   "cell_type": "code",
   "execution_count": 10,
   "id": "a29d00fe-f7ca-4621-ac1c-84bc62e160d9",
   "metadata": {},
   "outputs": [
    {
     "name": "stdout",
     "output_type": "stream",
     "text": [
      "['example (.com)']\n"
     ]
    }
   ],
   "source": [
    "Sample_Text=[\"example (.com)\", \"hr@fliprobo (.com)\", \"github (.com)\", \"Hello (Data Science World)\", \"Data (Scientist)\"]\n",
    "result = remove_parenthese(Sample_Text)\n",
    "print(result)"
   ]
  },
  {
   "cell_type": "code",
   "execution_count": null,
   "id": "d9dcb5a2-1b66-44ec-bbe1-120f44995512",
   "metadata": {},
   "outputs": [],
   "source": []
  },
  {
   "cell_type": "markdown",
   "id": "13670ff5-2b89-41e0-8d0c-2e8a3392369f",
   "metadata": {},
   "source": [
    "ANS = 6"
   ]
  },
  {
   "cell_type": "code",
   "execution_count": 54,
   "id": "c9c6ec92-6674-41cd-886c-e2f0173b84d7",
   "metadata": {},
   "outputs": [],
   "source": [
    "with open('sample 1.txt','r') as file:\n",
    "     text = file.read()\n",
    "modified_text =re.sub(r'\\([^()]*\\)', ' ',text)\n",
    "with open('sample 1.txt','w') as file:\n",
    " file.write(modified_text)"
   ]
  },
  {
   "cell_type": "code",
   "execution_count": 53,
   "id": "42e08d31-acc6-4fc3-9231-3d0627d283da",
   "metadata": {},
   "outputs": [
    {
     "data": {
      "text/plain": [
       "'Sample Text: [\"example  \", \"hr@fliprobo  \", \"github  \", \"Hello  \", \"Data  \"]'"
      ]
     },
     "execution_count": 53,
     "metadata": {},
     "output_type": "execute_result"
    }
   ],
   "source": [
    "modified_text"
   ]
  },
  {
   "cell_type": "markdown",
   "id": "ac3c9776-2901-4684-88b0-f5971c2d9793",
   "metadata": {},
   "source": [
    "ANS = 7"
   ]
  },
  {
   "cell_type": "code",
   "execution_count": 11,
   "id": "e94a1b27-8eb5-4506-b325-73ff3e03e452",
   "metadata": {},
   "outputs": [
    {
     "name": "stdout",
     "output_type": "stream",
     "text": [
      "['Importance', 'Of', 'Regular', 'Expressions', 'In', 'Python']\n"
     ]
    }
   ],
   "source": [
    "text = \"ImportanceOfRegularExpressionsInPython\"\n",
    "result = re.findall('[A-Z][^A-Z]*',text)\n",
    "print(result)"
   ]
  },
  {
   "cell_type": "code",
   "execution_count": null,
   "id": "d03adde8-96ce-4a56-bde1-d4291484a9f8",
   "metadata": {},
   "outputs": [],
   "source": []
  },
  {
   "cell_type": "markdown",
   "id": "d7b260a5-209a-4935-9955-6361595a54de",
   "metadata": {},
   "source": [
    "ANS = 8"
   ]
  },
  {
   "cell_type": "code",
   "execution_count": 12,
   "id": "de8a397f-863d-4033-9fdd-87d81d145395",
   "metadata": {},
   "outputs": [],
   "source": [
    "\n",
    "def insert_spaces(RegularExpression1IsAn2ImportantTopic3InPython):\n",
    "    pattern =r'(\\d+)([A-Za-z]+)'\n",
    "    result = re.sub(pattern,r'\\1 \\2',RegularExpression1IsAn2ImportantTopic3InPython)\n",
    "    return result"
   ]
  },
  {
   "cell_type": "code",
   "execution_count": 13,
   "id": "90dc97d5-db09-4eaf-8205-55c88a51be46",
   "metadata": {},
   "outputs": [
    {
     "name": "stdout",
     "output_type": "stream",
     "text": [
      "RegularExpression1 IsAn2 ImportantTopic3 InPython\n"
     ]
    }
   ],
   "source": [
    "SampleText= \"RegularExpression1IsAn2ImportantTopic3InPython\"\n",
    "Output = insert_spaces(SampleText)\n",
    "\n",
    "print(Output)"
   ]
  },
  {
   "cell_type": "code",
   "execution_count": null,
   "id": "452a9b8c-01c0-4ea4-b1d3-6cff4969552b",
   "metadata": {},
   "outputs": [],
   "source": []
  },
  {
   "cell_type": "markdown",
   "id": "bfbe7e40-3cd2-420f-b2f5-4ec1cbe26d52",
   "metadata": {},
   "source": [
    "ANS = 9"
   ]
  },
  {
   "cell_type": "code",
   "execution_count": 14,
   "id": "53f8710a-a1ad-47a5-a12b-d376b7102f3c",
   "metadata": {},
   "outputs": [],
   "source": [
    "def insert_space(RegularExpression1IsAn2ImportantTopic3InPython):\n",
    "    pattern =r'([A-Z][a-z0-9]+|\\d+)'\n",
    "    result =re.sub(pattern, r' \\1' ,RegularExpression1IsAn2ImportantTopic3InPython)\n",
    "    result = result.strip()\n",
    "    return result"
   ]
  },
  {
   "cell_type": "code",
   "execution_count": 15,
   "id": "c69f9db4-0bd2-4d45-b797-1f9a29759a7c",
   "metadata": {},
   "outputs": [
    {
     "name": "stdout",
     "output_type": "stream",
     "text": [
      "RegularExpression1 IsAn2 ImportantTopic3 InPython\n"
     ]
    }
   ],
   "source": [
    "SampleText= \"RegularExpression1IsAn2ImportantTopic3InPython\"\n",
    "Output = insert_spaces(SampleText)\n",
    "\n",
    "print(Output)"
   ]
  },
  {
   "cell_type": "code",
   "execution_count": null,
   "id": "a5d33a08-2aba-42eb-b96a-ab2c849e1603",
   "metadata": {},
   "outputs": [],
   "source": []
  },
  {
   "cell_type": "markdown",
   "id": "d9b61b21-2cd6-46d1-b69a-017594815a64",
   "metadata": {},
   "source": [
    "ANS = 10"
   ]
  },
  {
   "cell_type": "code",
   "execution_count": 16,
   "id": "f83144d4-52ae-467c-aab6-ee7941108712",
   "metadata": {},
   "outputs": [],
   "source": [
    "url = \"https://raw.githubusercontent.com/dsrscientist/DSData/master/happiness_score_dataset.csv\"\n",
    "df = pd.read_csv(url)"
   ]
  },
  {
   "cell_type": "code",
   "execution_count": 17,
   "id": "626117a9-7e46-4dd2-89a3-5847d0feb579",
   "metadata": {},
   "outputs": [
    {
     "data": {
      "text/html": [
       "<div>\n",
       "<style scoped>\n",
       "    .dataframe tbody tr th:only-of-type {\n",
       "        vertical-align: middle;\n",
       "    }\n",
       "\n",
       "    .dataframe tbody tr th {\n",
       "        vertical-align: top;\n",
       "    }\n",
       "\n",
       "    .dataframe thead th {\n",
       "        text-align: right;\n",
       "    }\n",
       "</style>\n",
       "<table border=\"1\" class=\"dataframe\">\n",
       "  <thead>\n",
       "    <tr style=\"text-align: right;\">\n",
       "      <th></th>\n",
       "      <th>Country</th>\n",
       "      <th>Region</th>\n",
       "      <th>Happiness Rank</th>\n",
       "      <th>Happiness Score</th>\n",
       "      <th>Standard Error</th>\n",
       "      <th>Economy (GDP per Capita)</th>\n",
       "      <th>Family</th>\n",
       "      <th>Health (Life Expectancy)</th>\n",
       "      <th>Freedom</th>\n",
       "      <th>Trust (Government Corruption)</th>\n",
       "      <th>Generosity</th>\n",
       "      <th>Dystopia Residual</th>\n",
       "    </tr>\n",
       "  </thead>\n",
       "  <tbody>\n",
       "    <tr>\n",
       "      <th>0</th>\n",
       "      <td>Switzerland</td>\n",
       "      <td>Western Europe</td>\n",
       "      <td>1</td>\n",
       "      <td>7.587</td>\n",
       "      <td>0.03411</td>\n",
       "      <td>1.39651</td>\n",
       "      <td>1.34951</td>\n",
       "      <td>0.94143</td>\n",
       "      <td>0.66557</td>\n",
       "      <td>0.41978</td>\n",
       "      <td>0.29678</td>\n",
       "      <td>2.51738</td>\n",
       "    </tr>\n",
       "    <tr>\n",
       "      <th>1</th>\n",
       "      <td>Iceland</td>\n",
       "      <td>Western Europe</td>\n",
       "      <td>2</td>\n",
       "      <td>7.561</td>\n",
       "      <td>0.04884</td>\n",
       "      <td>1.30232</td>\n",
       "      <td>1.40223</td>\n",
       "      <td>0.94784</td>\n",
       "      <td>0.62877</td>\n",
       "      <td>0.14145</td>\n",
       "      <td>0.43630</td>\n",
       "      <td>2.70201</td>\n",
       "    </tr>\n",
       "    <tr>\n",
       "      <th>2</th>\n",
       "      <td>Denmark</td>\n",
       "      <td>Western Europe</td>\n",
       "      <td>3</td>\n",
       "      <td>7.527</td>\n",
       "      <td>0.03328</td>\n",
       "      <td>1.32548</td>\n",
       "      <td>1.36058</td>\n",
       "      <td>0.87464</td>\n",
       "      <td>0.64938</td>\n",
       "      <td>0.48357</td>\n",
       "      <td>0.34139</td>\n",
       "      <td>2.49204</td>\n",
       "    </tr>\n",
       "    <tr>\n",
       "      <th>3</th>\n",
       "      <td>Norway</td>\n",
       "      <td>Western Europe</td>\n",
       "      <td>4</td>\n",
       "      <td>7.522</td>\n",
       "      <td>0.03880</td>\n",
       "      <td>1.45900</td>\n",
       "      <td>1.33095</td>\n",
       "      <td>0.88521</td>\n",
       "      <td>0.66973</td>\n",
       "      <td>0.36503</td>\n",
       "      <td>0.34699</td>\n",
       "      <td>2.46531</td>\n",
       "    </tr>\n",
       "    <tr>\n",
       "      <th>4</th>\n",
       "      <td>Canada</td>\n",
       "      <td>North America</td>\n",
       "      <td>5</td>\n",
       "      <td>7.427</td>\n",
       "      <td>0.03553</td>\n",
       "      <td>1.32629</td>\n",
       "      <td>1.32261</td>\n",
       "      <td>0.90563</td>\n",
       "      <td>0.63297</td>\n",
       "      <td>0.32957</td>\n",
       "      <td>0.45811</td>\n",
       "      <td>2.45176</td>\n",
       "    </tr>\n",
       "  </tbody>\n",
       "</table>\n",
       "</div>"
      ],
      "text/plain": [
       "       Country          Region  Happiness Rank  Happiness Score  \\\n",
       "0  Switzerland  Western Europe               1            7.587   \n",
       "1      Iceland  Western Europe               2            7.561   \n",
       "2      Denmark  Western Europe               3            7.527   \n",
       "3       Norway  Western Europe               4            7.522   \n",
       "4       Canada   North America               5            7.427   \n",
       "\n",
       "   Standard Error  Economy (GDP per Capita)   Family  \\\n",
       "0         0.03411                   1.39651  1.34951   \n",
       "1         0.04884                   1.30232  1.40223   \n",
       "2         0.03328                   1.32548  1.36058   \n",
       "3         0.03880                   1.45900  1.33095   \n",
       "4         0.03553                   1.32629  1.32261   \n",
       "\n",
       "   Health (Life Expectancy)  Freedom  Trust (Government Corruption)  \\\n",
       "0                   0.94143  0.66557                        0.41978   \n",
       "1                   0.94784  0.62877                        0.14145   \n",
       "2                   0.87464  0.64938                        0.48357   \n",
       "3                   0.88521  0.66973                        0.36503   \n",
       "4                   0.90563  0.63297                        0.32957   \n",
       "\n",
       "   Generosity  Dystopia Residual  \n",
       "0     0.29678            2.51738  \n",
       "1     0.43630            2.70201  \n",
       "2     0.34139            2.49204  \n",
       "3     0.34699            2.46531  \n",
       "4     0.45811            2.45176  "
      ]
     },
     "execution_count": 17,
     "metadata": {},
     "output_type": "execute_result"
    }
   ],
   "source": [
    "df.head()"
   ]
  },
  {
   "cell_type": "code",
   "execution_count": 18,
   "id": "c8cc78c3-0e4b-4d99-8ccd-2f945c96af22",
   "metadata": {},
   "outputs": [],
   "source": [
    "df['First_five_letters'] = df['Country']. apply(lambda x: x[:5])"
   ]
  },
  {
   "cell_type": "code",
   "execution_count": 19,
   "id": "be8af47a-21dd-4453-821a-ab5680263cd4",
   "metadata": {},
   "outputs": [
    {
     "name": "stdout",
     "output_type": "stream",
     "text": [
      "         Country                           Region  Happiness Rank  \\\n",
      "0    Switzerland                   Western Europe               1   \n",
      "1        Iceland                   Western Europe               2   \n",
      "2        Denmark                   Western Europe               3   \n",
      "3         Norway                   Western Europe               4   \n",
      "4         Canada                    North America               5   \n",
      "..           ...                              ...             ...   \n",
      "153       Rwanda               Sub-Saharan Africa             154   \n",
      "154        Benin               Sub-Saharan Africa             155   \n",
      "155        Syria  Middle East and Northern Africa             156   \n",
      "156      Burundi               Sub-Saharan Africa             157   \n",
      "157         Togo               Sub-Saharan Africa             158   \n",
      "\n",
      "     Happiness Score  Standard Error  Economy (GDP per Capita)   Family  \\\n",
      "0              7.587         0.03411                   1.39651  1.34951   \n",
      "1              7.561         0.04884                   1.30232  1.40223   \n",
      "2              7.527         0.03328                   1.32548  1.36058   \n",
      "3              7.522         0.03880                   1.45900  1.33095   \n",
      "4              7.427         0.03553                   1.32629  1.32261   \n",
      "..               ...             ...                       ...      ...   \n",
      "153            3.465         0.03464                   0.22208  0.77370   \n",
      "154            3.340         0.03656                   0.28665  0.35386   \n",
      "155            3.006         0.05015                   0.66320  0.47489   \n",
      "156            2.905         0.08658                   0.01530  0.41587   \n",
      "157            2.839         0.06727                   0.20868  0.13995   \n",
      "\n",
      "     Health (Life Expectancy)  Freedom  Trust (Government Corruption)  \\\n",
      "0                     0.94143  0.66557                        0.41978   \n",
      "1                     0.94784  0.62877                        0.14145   \n",
      "2                     0.87464  0.64938                        0.48357   \n",
      "3                     0.88521  0.66973                        0.36503   \n",
      "4                     0.90563  0.63297                        0.32957   \n",
      "..                        ...      ...                            ...   \n",
      "153                   0.42864  0.59201                        0.55191   \n",
      "154                   0.31910  0.48450                        0.08010   \n",
      "155                   0.72193  0.15684                        0.18906   \n",
      "156                   0.22396  0.11850                        0.10062   \n",
      "157                   0.28443  0.36453                        0.10731   \n",
      "\n",
      "     Generosity  Dystopia Residual First_five_letters  \n",
      "0       0.29678            2.51738              Switz  \n",
      "1       0.43630            2.70201              Icela  \n",
      "2       0.34139            2.49204              Denma  \n",
      "3       0.34699            2.46531              Norwa  \n",
      "4       0.45811            2.45176              Canad  \n",
      "..          ...                ...                ...  \n",
      "153     0.22628            0.67042              Rwand  \n",
      "154     0.18260            1.63328              Benin  \n",
      "155     0.47179            0.32858              Syria  \n",
      "156     0.19727            1.83302              Burun  \n",
      "157     0.16681            1.56726               Togo  \n",
      "\n",
      "[158 rows x 13 columns]\n"
     ]
    }
   ],
   "source": [
    "print(df)"
   ]
  },
  {
   "cell_type": "code",
   "execution_count": null,
   "id": "c657e503-0792-4102-89ee-a7e548642d4f",
   "metadata": {},
   "outputs": [],
   "source": []
  },
  {
   "cell_type": "code",
   "execution_count": null,
   "id": "e92e0d47-5c91-4a8e-8aa2-e0bb73454896",
   "metadata": {},
   "outputs": [],
   "source": []
  },
  {
   "cell_type": "markdown",
   "id": "bfcc9e37-07ca-48f1-a5bb-44f662f74c5c",
   "metadata": {},
   "source": [
    "ANS = 11"
   ]
  },
  {
   "cell_type": "code",
   "execution_count": 20,
   "id": "c2ebd998-b588-4c06-898a-ba6e5f53272c",
   "metadata": {},
   "outputs": [],
   "source": [
    "def text_match(text):\n",
    "    patterns = '^[a-zA-Z0-9_]*$'\n",
    "    if re.search(patterns,text):\n",
    "        return 'Found a match!'\n",
    "    else:\n",
    "        return(\"not matched!\")"
   ]
  },
  {
   "cell_type": "code",
   "execution_count": 21,
   "id": "c5523b17-3b89-40d5-8382-d60e61da453d",
   "metadata": {},
   "outputs": [
    {
     "name": "stdout",
     "output_type": "stream",
     "text": [
      "not matched!\n",
      "Found a match!\n"
     ]
    }
   ],
   "source": [
    "print(text_match(\"The quick brown fox jumps over lazy dog.\"))\n",
    "print(text_match(\"python_Exercises_1\"))"
   ]
  },
  {
   "cell_type": "code",
   "execution_count": null,
   "id": "882891b8-248c-4428-a526-4d7aa364073e",
   "metadata": {},
   "outputs": [],
   "source": []
  },
  {
   "cell_type": "markdown",
   "id": "3d910c30-b266-44da-b643-56ede2942519",
   "metadata": {},
   "source": [
    "ANS = 12"
   ]
  },
  {
   "cell_type": "code",
   "execution_count": 22,
   "id": "f521e961-47c8-40ee-a478-ae4f23f48cba",
   "metadata": {},
   "outputs": [
    {
     "name": "stdout",
     "output_type": "stream",
     "text": [
      "The string starts with the specified number.\n"
     ]
    }
   ],
   "source": [
    "string =\"456xzy\"\n",
    "number = 456\n",
    "\n",
    "def check_starting_number(string,number):\n",
    "    if string.startswith(str(number)):\n",
    "        return True\n",
    "    else:\n",
    "        return False\n",
    "        \n",
    "if check_starting_number(string,number): \n",
    "    print(\"The string starts with the specified number.\")\n",
    "else:\n",
    "    print(\"The string does not start with the specified number.\")"
   ]
  },
  {
   "cell_type": "code",
   "execution_count": null,
   "id": "1e1011af-278a-4728-8939-904b6411dbe1",
   "metadata": {},
   "outputs": [],
   "source": []
  },
  {
   "cell_type": "markdown",
   "id": "672dded8-3a62-4c5c-9d56-8bc04c821101",
   "metadata": {},
   "source": [
    "ANS = 13"
   ]
  },
  {
   "cell_type": "code",
   "execution_count": 23,
   "id": "6fef5c37-c574-4b95-ad10-ce234df3f56b",
   "metadata": {},
   "outputs": [
    {
     "name": "stdout",
     "output_type": "stream",
     "text": [
      "110.1.125.48\n"
     ]
    }
   ],
   "source": [
    "ip =\"110.01.125.048\"\n",
    "string =re.sub('\\.[0]*','.',ip)\n",
    "print(string)"
   ]
  },
  {
   "cell_type": "code",
   "execution_count": null,
   "id": "f7e6dc5e-65f7-4c4d-9d1d-c02128b664dc",
   "metadata": {},
   "outputs": [],
   "source": []
  },
  {
   "cell_type": "markdown",
   "id": "5ca9f3b9-f7d3-4e67-8e87-aa849ade1dd7",
   "metadata": {},
   "source": [
    "ANS = 14"
   ]
  },
  {
   "cell_type": "code",
   "execution_count": null,
   "id": "2ebfdc0b-d58c-460f-88fc-d890cbec4bbd",
   "metadata": {},
   "outputs": [],
   "source": []
  },
  {
   "cell_type": "code",
   "execution_count": 24,
   "id": "4dd94e55-98d8-4ac0-b975-ce711b0ea004",
   "metadata": {},
   "outputs": [
    {
     "name": "stdout",
     "output_type": "stream",
     "text": [
      "['August']\n"
     ]
    }
   ],
   "source": [
    "text = \"On August 15th 1947 that India was declared independent from British colonialism, and the reins of control were handed over to the leaders of the Country.\"\n",
    "\n",
    "pattern = r\"\\b([A-Z][a-z]+) \\d{1,2}(?:st|nd|rd|th)? \\d{4}\\b\"\n",
    "\n",
    "matches = re.findall(pattern, text)\n",
    "print(matches)"
   ]
  },
  {
   "cell_type": "markdown",
   "id": "d402a940-b7cc-4d7e-bc09-cabe5f459962",
   "metadata": {},
   "source": [
    "ANS = 15"
   ]
  },
  {
   "cell_type": "code",
   "execution_count": 25,
   "id": "36266a7d-3be0-4491-a318-8fc7c9d2d27c",
   "metadata": {},
   "outputs": [
    {
     "name": "stdout",
     "output_type": "stream",
     "text": [
      "searching for \"fox\" in \"The quick brown fox jumps over the lazy dog.\" ->\n",
      "Matched!\n",
      "searching for \"dog\" in \"The quick brown fox jumps over the lazy dog.\" ->\n",
      "Matched!\n",
      "searching for \"horse\" in \"The quick brown fox jumps over the lazy dog.\" ->\n",
      "Not matched!\n"
     ]
    }
   ],
   "source": [
    "patterns =['fox','dog','horse']\n",
    "text = 'The quick brown fox jumps over the lazy dog.'\n",
    "for pattern in patterns:\n",
    "    print('searching for \"%s\" in \"%s\" ->'% (pattern,text),)\n",
    "    if re.search(pattern,text):\n",
    "        print('Matched!')\n",
    "    else:\n",
    "        print('Not matched!')"
   ]
  },
  {
   "cell_type": "code",
   "execution_count": null,
   "id": "4b0441ce-cc5f-424c-ae22-28b76cb2095b",
   "metadata": {},
   "outputs": [],
   "source": []
  },
  {
   "cell_type": "markdown",
   "id": "f2d0dcd4-c78f-468e-928f-ae1a5b316984",
   "metadata": {},
   "source": [
    "ANS = 16"
   ]
  },
  {
   "cell_type": "code",
   "execution_count": 26,
   "id": "7301f39e-ad09-4bb1-a771-de12a3ec78bc",
   "metadata": {},
   "outputs": [
    {
     "name": "stdout",
     "output_type": "stream",
     "text": [
      "Found \"fox\" in \"The quick brown fox jumps over the lazy dog.\" from 16 to 19 \n"
     ]
    }
   ],
   "source": [
    "pattern = 'fox' \n",
    "text ='The quick brown fox jumps over the lazy dog.'\n",
    "match = re.search(pattern,text)\n",
    "s = match.start()\n",
    "e = match.end()\n",
    "print('Found \"%s\" in \"%s\" from %d to %d ' % \\\n",
    "      (match.re.pattern, match.string, s,e))"
   ]
  },
  {
   "cell_type": "code",
   "execution_count": null,
   "id": "a5718a1d-4c01-4a03-8174-59dd1635c1bd",
   "metadata": {},
   "outputs": [],
   "source": []
  },
  {
   "cell_type": "markdown",
   "id": "bfaad1d8-e850-4d8b-9460-0261d6cdb5a8",
   "metadata": {},
   "source": [
    "ANS = 17"
   ]
  },
  {
   "cell_type": "code",
   "execution_count": 27,
   "id": "5f44acc7-1877-4378-b80a-2ffc7fec2c28",
   "metadata": {},
   "outputs": [
    {
     "name": "stdout",
     "output_type": "stream",
     "text": [
      "\"exercises\" \n",
      "\"exercises\" \n",
      "\"exercises\" \n"
     ]
    }
   ],
   "source": [
    "text= \"Python exercises, PHP exercises, C# exercises\"\n",
    "pattern ='exercises'\n",
    "for match in re.findall(pattern,text):\n",
    "    print('\"%s\" ' %match)"
   ]
  },
  {
   "cell_type": "code",
   "execution_count": null,
   "id": "63ec8ba9-adaf-4bf4-ad6e-8c5b9b790907",
   "metadata": {},
   "outputs": [],
   "source": []
  },
  {
   "cell_type": "markdown",
   "id": "5307c988-7b95-4098-aa59-eb12bc454ad9",
   "metadata": {},
   "source": [
    "ANS = 18"
   ]
  },
  {
   "cell_type": "code",
   "execution_count": 55,
   "id": "99548bf1-19aa-48fb-ba3b-cfef70d910f6",
   "metadata": {},
   "outputs": [
    {
     "name": "stdout",
     "output_type": "stream",
     "text": [
      "Found \"exercises\" at 7:16\n",
      "Found \"exercises\" at 22:31\n",
      "Found \"exercises\" at 36:45\n"
     ]
    }
   ],
   "source": [
    "text= \"Python exercises, PHP exercises, C# exercises\"\n",
    "pattern ='exercises'\n",
    "for match in re.finditer(pattern,text):\n",
    "    s =match.start()\n",
    "    e =match.end()\n",
    "    print('Found \"%s\" at %d:%d' % (text[s:e], s,e))"
   ]
  },
  {
   "cell_type": "code",
   "execution_count": null,
   "id": "2245dfca-e481-4d54-8c9d-ef69e1e65b3c",
   "metadata": {},
   "outputs": [],
   "source": []
  },
  {
   "cell_type": "markdown",
   "id": "f8e1d6a5-841e-4a62-b169-75f28d8744ee",
   "metadata": {},
   "source": [
    "ANS =19"
   ]
  },
  {
   "cell_type": "code",
   "execution_count": 29,
   "id": "1ead985c-1df8-4260-bf07-bd1c9f95c663",
   "metadata": {},
   "outputs": [
    {
     "name": "stdout",
     "output_type": "stream",
     "text": [
      "Original date in YYY-MM-DD Format:  2026-01-02\n",
      "New date in DD-MM-YYYY Format:  02-01-2026\n"
     ]
    }
   ],
   "source": [
    "def change_date_format(dt):\n",
    "        return re.sub(r'(\\d{4})-(\\d{1,2})-(\\d{1,2})','\\\\3-\\\\2-\\\\1',dt)\n",
    "\n",
    "dt1 = \"2026-01-02\"\n",
    "print(\"Original date in YYY-MM-DD Format: \",dt1)\n",
    "print(\"New date in DD-MM-YYYY Format: \",change_date_format(dt1))"
   ]
  },
  {
   "cell_type": "code",
   "execution_count": null,
   "id": "5efcd4bb-feef-4dba-b2bf-d7589ae3c336",
   "metadata": {},
   "outputs": [],
   "source": []
  },
  {
   "cell_type": "markdown",
   "id": "98083323-206a-46e5-a4df-bd918364f5cd",
   "metadata": {},
   "source": [
    "ANS = 20"
   ]
  },
  {
   "cell_type": "code",
   "execution_count": 30,
   "id": "8e600184-eb1e-4d64-a7f4-aa65b765e085",
   "metadata": {},
   "outputs": [],
   "source": [
    "def find_decimal_numbers(string):\n",
    "  pattern =re.compile(r'\\d+\\.\\d{1,2}')\n",
    "  decimal_numbers = re.findall(pattern,string)\n",
    "  return decimal_numbers"
   ]
  },
  {
   "cell_type": "code",
   "execution_count": 31,
   "id": "b7554d07-931b-4137-887d-c32279a4f1ab",
   "metadata": {},
   "outputs": [
    {
     "name": "stdout",
     "output_type": "stream",
     "text": [
      "['01.12', '0132.12', '2.31', '145.8', '3.01', '27.25', '0.25']\n"
     ]
    }
   ],
   "source": [
    "sample_text=\"01.12 0132.123 2.31875 145.8 3.01 27.25 0.25\"\n",
    "output = find_decimal_numbers(sample_text)\n",
    "print(output)"
   ]
  },
  {
   "cell_type": "code",
   "execution_count": null,
   "id": "774041cd-4297-4ea0-a4c6-1728b8935924",
   "metadata": {},
   "outputs": [],
   "source": []
  },
  {
   "cell_type": "markdown",
   "id": "4248a9a5-b61d-4515-867c-f8725268cd34",
   "metadata": {},
   "source": [
    "ANS = 21"
   ]
  },
  {
   "cell_type": "code",
   "execution_count": 32,
   "id": "e6eccd31-c7bb-4302-b9c2-52ddb66d96b1",
   "metadata": {},
   "outputs": [
    {
     "name": "stdout",
     "output_type": "stream",
     "text": [
      "50\n",
      "Index position : 62\n"
     ]
    }
   ],
   "source": [
    "text = \"The following example creates an ArrayList with a capacity of 50 elements. Four elements are then added to the ArrayList and the ArrayList is trimmed accordingly.\"\n",
    "\n",
    "for m in re.finditer(\"\\d+\",text):\n",
    "    print(m.group(0))\n",
    "    print(\"Index position :\",m.start())"
   ]
  },
  {
   "cell_type": "code",
   "execution_count": null,
   "id": "3f5c4ba6-9128-4cb6-af9e-a98245ad83d6",
   "metadata": {},
   "outputs": [],
   "source": []
  },
  {
   "cell_type": "markdown",
   "id": "48d6002b-391d-4aa0-a647-4b1e98b2e1e7",
   "metadata": {},
   "source": [
    "ANS = 22"
   ]
  },
  {
   "cell_type": "code",
   "execution_count": 33,
   "id": "4b47a51a-a83c-4ac4-921d-5dd6ea4ca5f4",
   "metadata": {},
   "outputs": [
    {
     "name": "stdout",
     "output_type": "stream",
     "text": [
      "950\n"
     ]
    }
   ],
   "source": [
    "input_string ='My marks in each semester are: 947, 896, 926, 524, 734, 950, 642'\n",
    "numeric_values= re.findall(r'\\d+', input_string)\n",
    "numeric_values= [int(value)for value in numeric_values]\n",
    "max_value =max(numeric_values)\n",
    "print(max_value)"
   ]
  },
  {
   "cell_type": "code",
   "execution_count": null,
   "id": "c2dd27cb-6e38-420b-984d-f76b8fe1de17",
   "metadata": {},
   "outputs": [],
   "source": []
  },
  {
   "cell_type": "markdown",
   "id": "16ef758b-28d2-4847-bad7-33a4626a7fda",
   "metadata": {},
   "source": [
    "ANS = 23"
   ]
  },
  {
   "cell_type": "code",
   "execution_count": 34,
   "id": "c135d24f-6878-4bf2-aecd-767d78271798",
   "metadata": {},
   "outputs": [
    {
     "name": "stdout",
     "output_type": "stream",
     "text": [
      "RegularExpressionIsAnImportantTopicInPython\n"
     ]
    }
   ],
   "source": [
    "def insert_spaces(text):\n",
    "    Pattern =r'([A-Z][a-z]+)'\n",
    "    result = re.sub(Pattern, r'\\1', text,)\n",
    "    result = result.strip()\n",
    "    return result\n",
    "\n",
    "sample_text = \"RegularExpressionIsAnImportantTopicInPython\"\n",
    "output = insert_spaces(sample_text)\n",
    "print(output)\n",
    "    "
   ]
  },
  {
   "cell_type": "code",
   "execution_count": null,
   "id": "12f1ed70-e347-4ff2-a442-1cd7afa23bd9",
   "metadata": {},
   "outputs": [],
   "source": []
  },
  {
   "cell_type": "markdown",
   "id": "aa78e9e3-d922-4035-9ed8-9521499c91fd",
   "metadata": {},
   "source": [
    "ANS =24"
   ]
  },
  {
   "cell_type": "code",
   "execution_count": 56,
   "id": "2b42b944-510d-4b75-973e-5a1c977357f8",
   "metadata": {},
   "outputs": [
    {
     "name": "stdout",
     "output_type": "stream",
     "text": [
      "Found a match!\n",
      "Found a match!\n",
      "Not matched!\n",
      "Not matched!\n",
      "Not matched!\n",
      "Found a match!\n"
     ]
    }
   ],
   "source": [
    "import re\n",
    "def text_match(text):\n",
    "        patterns = '[A-Z]+[a-z]+$'\n",
    "        if re.search(patterns, text):\n",
    "                return 'Found a match!'\n",
    "        else:\n",
    "                return('Not matched!')\n",
    "print(text_match(\"AaBbGg\"))\n",
    "print(text_match(\"Python\"))\n",
    "print(text_match(\"python\"))\n",
    "print(text_match(\"PYTHON\"))\n",
    "print(text_match(\"aA\"))\n",
    "print(text_match(\"Aa\"))"
   ]
  },
  {
   "cell_type": "code",
   "execution_count": null,
   "id": "f78f5fe3-8e28-4868-946a-76fb64c743da",
   "metadata": {},
   "outputs": [],
   "source": []
  },
  {
   "cell_type": "markdown",
   "id": "d622dc7a-648a-4826-8330-d23c45c77486",
   "metadata": {},
   "source": [
    "ANS =25"
   ]
  },
  {
   "cell_type": "code",
   "execution_count": 37,
   "id": "653596ac-3ec2-45d0-a48c-85fe4d2c428c",
   "metadata": {},
   "outputs": [
    {
     "name": "stdout",
     "output_type": "stream",
     "text": [
      "Hello hello world\n"
     ]
    }
   ],
   "source": [
    "def remove_duplicates(sentence):\n",
    "  pattern = r'\\b(\\w+)(\\s+\\1\\b)+'\n",
    "  result = re.sub(pattern, r'\\1', sentence)\n",
    "  return result\n",
    "\n",
    "\n",
    "sentence = \"Hello hello world world\"\n",
    "output = remove_duplicates(sentence)\n",
    "print(output)"
   ]
  },
  {
   "cell_type": "code",
   "execution_count": null,
   "id": "8e2bf888-c147-435c-b2e5-1b1376a5e5e4",
   "metadata": {},
   "outputs": [],
   "source": []
  },
  {
   "cell_type": "markdown",
   "id": "04de9ec8-c131-4e64-b36c-d713aa069eea",
   "metadata": {},
   "source": [
    "ANS = 26"
   ]
  },
  {
   "cell_type": "code",
   "execution_count": 38,
   "id": "152a818b-1bb5-49e5-9fbe-8caaf9a07a1d",
   "metadata": {},
   "outputs": [
    {
     "name": "stdin",
     "output_type": "stream",
     "text": [
      "Enter a string:  vrutika@123\n"
     ]
    },
    {
     "name": "stdout",
     "output_type": "stream",
     "text": [
      "String ends with an alphanumeric character\n"
     ]
    }
   ],
   "source": [
    "def check_string(string):\n",
    "  pattern = r\"\\w$\"\n",
    "  match = re.search(pattern, string)\n",
    "  if match:\n",
    "      return True\n",
    "  else:\n",
    "      return False\n",
    "\n",
    "\n",
    "input_string = input(\"Enter a string: \")\n",
    "if check_string(input_string):\n",
    "  print(\"String ends with an alphanumeric character\")\n",
    "else:\n",
    "  print(\"String does not end with an alphanumeric character\")"
   ]
  },
  {
   "cell_type": "code",
   "execution_count": null,
   "id": "9b5fd6c5-71d2-49b1-895b-7623af8cff1d",
   "metadata": {},
   "outputs": [],
   "source": []
  },
  {
   "cell_type": "markdown",
   "id": "327453ae-78f6-4097-8044-62b1da40a617",
   "metadata": {},
   "source": [
    "ANS = 27"
   ]
  },
  {
   "cell_type": "code",
   "execution_count": 39,
   "id": "fc8fd27e-a7ea-42fe-b472-70abb4a524f3",
   "metadata": {},
   "outputs": [
    {
     "name": "stdout",
     "output_type": "stream",
     "text": [
      "['#Doltiwal', '#xyzabc', '#Demonetization']\n"
     ]
    }
   ],
   "source": [
    "import re\n",
    "def extract_hashtags(text):\n",
    "  hashtags = re.findall(r'#\\w+', text)\n",
    "  return hashtags\n",
    "\n",
    "text = 'RT @kapil_kausik: #Doltiwal I mean #xyzabc is \"hurt\" by #Demonetization as the same has rendered USELESS <ed><U+00A0><U+00BD><ed><U+00B1><U+0089> \"acquired funds\" No wo'\n",
    "\n",
    "hashtags = extract_hashtags(text)\n",
    "\n",
    "print(hashtags)"
   ]
  },
  {
   "cell_type": "code",
   "execution_count": null,
   "id": "cdbe7f07-406e-4a11-8a00-6ef16990278b",
   "metadata": {},
   "outputs": [],
   "source": []
  },
  {
   "cell_type": "markdown",
   "id": "19d34ee9-16ba-43f6-a4a3-4fa900f4006e",
   "metadata": {},
   "source": [
    "ANS = 28"
   ]
  },
  {
   "cell_type": "code",
   "execution_count": 40,
   "id": "0ddaa6ed-e054-4ccd-b2f8-3d0f30ccf2a2",
   "metadata": {},
   "outputs": [
    {
     "name": "stdout",
     "output_type": "stream",
     "text": [
      "@Jags123456 Bharat band on 28??<ed><ed>Those who are protesting #demonetization are all different party leaders\n"
     ]
    }
   ],
   "source": [
    "import re\n",
    "\n",
    "input_text = \"@Jags123456 Bharat band on 28??<ed><U+00A0><U+00BD><ed><U+00B8><U+0082>Those who are protesting #demonetization are all different party leaders\"\n",
    "\n",
    "pattern = r\"<U\\+\\w{4}>\"\n",
    "output_text = re.sub(pattern, \"\", input_text)\n",
    "\n",
    "print(output_text)"
   ]
  },
  {
   "cell_type": "code",
   "execution_count": null,
   "id": "96d4c77e-ea93-4109-87da-8f6b4b24194e",
   "metadata": {},
   "outputs": [],
   "source": []
  },
  {
   "cell_type": "markdown",
   "id": "cf86a783-e0b9-4636-9aa7-46a7a5c9ef33",
   "metadata": {},
   "source": [
    "ANS 29"
   ]
  },
  {
   "cell_type": "code",
   "execution_count": 41,
   "id": "a20b6111-f81b-418e-bbee-635c3e6445e4",
   "metadata": {},
   "outputs": [
    {
     "name": "stdout",
     "output_type": "stream",
     "text": [
      "12-09-1992\n",
      "15-12-1999\n"
     ]
    }
   ],
   "source": [
    "import re\n",
    "\n",
    "with open('Sample.txt','r') as file:\n",
    "     text = file.read()\n",
    "\n",
    "pattern = r'\\d{2}-\\d{2}-\\d{4}'\n",
    "\n",
    "dates = re.findall(pattern, text)\n",
    "\n",
    "for date in dates:\n",
    "    print(date)"
   ]
  },
  {
   "cell_type": "code",
   "execution_count": null,
   "id": "034c018d-7fe4-45e3-801c-98433d2f6814",
   "metadata": {},
   "outputs": [],
   "source": []
  },
  {
   "cell_type": "markdown",
   "id": "c565deec-402c-45d8-bc77-04a51d61ee56",
   "metadata": {},
   "source": [
    "ANS = 30"
   ]
  },
  {
   "cell_type": "code",
   "execution_count": 57,
   "id": "8e581405-8a10-489d-b7f8-f87832120421",
   "metadata": {},
   "outputs": [],
   "source": [
    "def remove_words(string):\n",
    "  pattern = re.compile(r'\\b\\w{2,4}\\b')\n",
    "  modified_string = re.sub(pattern, '', string)\n",
    "  return modified_string"
   ]
  },
  {
   "cell_type": "code",
   "execution_count": 58,
   "id": "92424a2f-1945-4103-bde2-1a0f219ce7c9",
   "metadata": {},
   "outputs": [
    {
     "name": "stdout",
     "output_type": "stream",
     "text": [
      " following example creates  ArrayList  a capacity   elements. 4 elements   added   ArrayList   ArrayList  trimmed accordingly.\n"
     ]
    }
   ],
   "source": [
    "sample_text = \"The following example creates an ArrayList with a capacity of 50 elements. 4 elements are then added to the ArrayList and the ArrayList is trimmed accordingly.\"\n",
    "output = remove_words(sample_text)\n",
    "print(output)"
   ]
  },
  {
   "cell_type": "code",
   "execution_count": null,
   "id": "47fe0435-9891-4a91-994b-d598a461a2aa",
   "metadata": {},
   "outputs": [],
   "source": []
  },
  {
   "cell_type": "code",
   "execution_count": null,
   "id": "a3aa3c76-67db-4c68-9809-d36146894938",
   "metadata": {},
   "outputs": [],
   "source": []
  },
  {
   "cell_type": "code",
   "execution_count": null,
   "id": "48c55d4b-5c05-4114-946e-4fd275eff5af",
   "metadata": {},
   "outputs": [],
   "source": []
  },
  {
   "cell_type": "code",
   "execution_count": null,
   "id": "b88b40cd-521b-4edf-9d32-ee79c499d2f1",
   "metadata": {},
   "outputs": [],
   "source": []
  },
  {
   "cell_type": "code",
   "execution_count": null,
   "id": "47adffd2-c5f2-4c8a-9f7c-b4653b96b02f",
   "metadata": {},
   "outputs": [],
   "source": []
  },
  {
   "cell_type": "code",
   "execution_count": null,
   "id": "bd0d85fa-f68e-49e8-b56a-0226769bf4f2",
   "metadata": {},
   "outputs": [],
   "source": []
  },
  {
   "cell_type": "code",
   "execution_count": null,
   "id": "43a44bf8-516d-4ed2-9e40-d04b1fa363cb",
   "metadata": {},
   "outputs": [],
   "source": []
  },
  {
   "cell_type": "code",
   "execution_count": null,
   "id": "cce27acc-7fbd-41b6-bbaf-d3430a0ca21a",
   "metadata": {},
   "outputs": [],
   "source": []
  },
  {
   "cell_type": "code",
   "execution_count": null,
   "id": "2c665c86-72fa-4135-878a-b7957321d4cf",
   "metadata": {},
   "outputs": [],
   "source": []
  },
  {
   "cell_type": "code",
   "execution_count": null,
   "id": "6d6c8cd0-fb29-426b-868e-a998b1029468",
   "metadata": {},
   "outputs": [],
   "source": []
  },
  {
   "cell_type": "code",
   "execution_count": null,
   "id": "95da5797-4965-4d61-af90-b3ef4b69f705",
   "metadata": {},
   "outputs": [],
   "source": []
  },
  {
   "cell_type": "code",
   "execution_count": null,
   "id": "f5f7c0de-cb42-472a-bc21-6716893ddd13",
   "metadata": {},
   "outputs": [],
   "source": []
  },
  {
   "cell_type": "code",
   "execution_count": null,
   "id": "eda060ac-870d-4857-949b-1dea27b40d84",
   "metadata": {},
   "outputs": [],
   "source": []
  },
  {
   "cell_type": "code",
   "execution_count": null,
   "id": "3a093680-0cd8-41b7-8192-ac7e3d1f4aac",
   "metadata": {},
   "outputs": [],
   "source": []
  },
  {
   "cell_type": "code",
   "execution_count": null,
   "id": "3d18e91f-1245-4b6d-976e-cf5aa8158d42",
   "metadata": {},
   "outputs": [],
   "source": []
  },
  {
   "cell_type": "code",
   "execution_count": null,
   "id": "88435e75-43d6-4c63-89ad-f780b3ceddf8",
   "metadata": {},
   "outputs": [],
   "source": []
  },
  {
   "cell_type": "code",
   "execution_count": null,
   "id": "95fbf2bd-466e-4983-ba1e-d0097614515e",
   "metadata": {},
   "outputs": [],
   "source": []
  },
  {
   "cell_type": "code",
   "execution_count": null,
   "id": "3158e85c-3dc6-4435-863b-5215199d22f4",
   "metadata": {},
   "outputs": [],
   "source": []
  },
  {
   "cell_type": "code",
   "execution_count": null,
   "id": "4b8d3633-4529-479b-85e6-89c714087ace",
   "metadata": {},
   "outputs": [],
   "source": []
  },
  {
   "cell_type": "code",
   "execution_count": null,
   "id": "77045605-db98-47ee-a068-f7df471d7340",
   "metadata": {},
   "outputs": [],
   "source": []
  },
  {
   "cell_type": "code",
   "execution_count": null,
   "id": "c6b81d2d-1bbf-4894-bea0-ebdc01bdebc2",
   "metadata": {},
   "outputs": [],
   "source": []
  },
  {
   "cell_type": "code",
   "execution_count": null,
   "id": "58be9990-bbdd-4e44-92fd-aa97c229de86",
   "metadata": {},
   "outputs": [],
   "source": []
  },
  {
   "cell_type": "code",
   "execution_count": null,
   "id": "93dc3edb-b94e-4ad0-9dd8-a63ad4fd4053",
   "metadata": {},
   "outputs": [],
   "source": []
  },
  {
   "cell_type": "code",
   "execution_count": null,
   "id": "41a65cfb-9c16-4e91-bfcf-ceded17807f3",
   "metadata": {},
   "outputs": [],
   "source": []
  },
  {
   "cell_type": "code",
   "execution_count": null,
   "id": "9daef38f-c18b-450f-8d49-cd738b48cf22",
   "metadata": {},
   "outputs": [],
   "source": []
  },
  {
   "cell_type": "code",
   "execution_count": null,
   "id": "ba898674-946e-4f8d-a77e-3a833052a731",
   "metadata": {},
   "outputs": [],
   "source": []
  },
  {
   "cell_type": "code",
   "execution_count": null,
   "id": "e3187a41-ec6d-4b23-800d-73e95a3e4064",
   "metadata": {},
   "outputs": [],
   "source": []
  },
  {
   "cell_type": "code",
   "execution_count": null,
   "id": "931066fb-9f7c-421e-9083-cb6d6145173c",
   "metadata": {},
   "outputs": [],
   "source": []
  },
  {
   "cell_type": "code",
   "execution_count": null,
   "id": "e7ba5e7f-daa7-46c9-8fff-8427c5833358",
   "metadata": {},
   "outputs": [],
   "source": [
    "\n"
   ]
  }
 ],
 "metadata": {
  "kernelspec": {
   "display_name": "Python 3 (ipykernel)",
   "language": "python",
   "name": "python3"
  },
  "language_info": {
   "codemirror_mode": {
    "name": "ipython",
    "version": 3
   },
   "file_extension": ".py",
   "mimetype": "text/x-python",
   "name": "python",
   "nbconvert_exporter": "python",
   "pygments_lexer": "ipython3",
   "version": "3.11.5"
  }
 },
 "nbformat": 4,
 "nbformat_minor": 5
}
